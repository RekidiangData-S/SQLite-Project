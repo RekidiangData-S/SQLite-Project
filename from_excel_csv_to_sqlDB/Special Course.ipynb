{
 "cells": [
  {
   "cell_type": "markdown",
   "metadata": {},
   "source": [
    "## University of Tubingen\n",
    "\n",
    "[University of Tubingen Course](https://uni-tuebingen.de/fakultaeten/mathematisch-naturwissenschaftliche-fakultaet/fachbereiche/informatik/lehrstuehle/autonomous-vision/lectures/deep-learning/)"
   ]
  },
  {
   "cell_type": "markdown",
   "metadata": {},
   "source": [
    "## Software Engineering \n",
    "\n",
    "* [Software Engineering by Prof. Rajib Mall](https://www.youtube.com/playlist?list=PLbRMhDVUMngf8oZR3DpKMvYhZKga90JVt)\n",
    "* [Software Engineering (SE)](https://www.youtube.com/playlist?list=PLrjkTql3jnm9b5nr-ggx7Pt1G4UAHeFlJ) by [Education 4u](https://www.youtube.com/channel/UCKS34cSMNaXaySe2xgXH-3A/playlists)\n",
    "* [Software Engineering Basics](https://www.youtube.com/watch?v=sB2iQSvrcG0)\n",
    "* [Note](https://drive.google.com/drive/folders/1JUYkrThuNraxMuIl6ffgJG_5nmfpxXxR)"
   ]
  },
  {
   "cell_type": "markdown",
   "metadata": {},
   "source": [
    "## Stanford Engineering Everywhere\n",
    "\n",
    "* [Stanford Engineering Everywhere](https://see.stanford.edu/)\n",
    "* [CS106A - Programming Methodology](https://see.stanford.edu/Course/CS106A) video youtube [Here](https://www.youtube.com/watch?v=KkMDCCdjyW8&list=PL84A56BC7F4A1F852) \n",
    "* [CS106B - Programming Abstractions](https://see.stanford.edu/Course/CS106B) video youtube [Here](https://www.youtube.com/watch?v=kMzH3tfP6f8&list=PLFE6E58F856038C69)\n",
    "* [CS107 - Programming Paradigms](https://see.stanford.edu/Course/CS107/198) video youtube [Here](https://www.youtube.com/watch?v=Ps8jOj7diA0&list=PL9D558D49CA734A02)"
   ]
  },
  {
   "cell_type": "markdown",
   "metadata": {},
   "source": [
    "## Machine Learning with Graphs\n",
    "\n",
    "* [CS224W: Machine Learning with Graphs](http://web.stanford.edu/class/cs224w/) See videos on youtube [videos](https://www.youtube.com/watch?v=JAB_plj2rbA&list=PLoROMvodv4rPLKxIpqhjhPgdQy7imNkDn)\n",
    "* [An Introduction to Graph Neural Networks: Models and Applications](https://www.youtube.com/watch?v=zCEYiCxrL_0)"
   ]
  },
  {
   "cell_type": "markdown",
   "metadata": {},
   "source": [
    "## Clean Code - Uncle Bob\n",
    "\n",
    "* [Lesson 1](https://www.youtube.com/watch?v=7EmboKQH8lM)\n",
    "* [Lesson 2](https://www.youtube.com/watch?v=2a_ytyt9sf8)\n",
    "* [The Future of Programming](https://www.youtube.com/watch?v=ecIWPzGEbFc)"
   ]
  },
  {
   "cell_type": "markdown",
   "metadata": {},
   "source": [
    "## Machine Learning TV\n",
    "\n",
    "* [Machine Learning TV](https://www.youtube.com/c/MachineLearningTV/playlists)"
   ]
  },
  {
   "cell_type": "markdown",
   "metadata": {},
   "source": [
    "## C++\n",
    "\n",
    "* [C++ Tutorial Beginners | Learn C++ Programming](https://www.youtube.com/watch?v=VJ6YdCuKsfw)\n",
    "* [C++ Tutorial From Basic to Advance](https://www.youtube.com/watch?v=mUQZ1qmKlLY)"
   ]
  },
  {
   "cell_type": "markdown",
   "metadata": {},
   "source": [
    "## PlantUML in a nutshell for UML Diagram\n",
    "\n",
    "* [PlantUML](https://plantuml.com/)\n",
    "* [Video](https://www.youtube.com/watch?v=Mgi-bOlPbek&list=PLrzWQu7Ajpi1w4XAi6leIdvYGEdtHt9j3&index=8)"
   ]
  },
  {
   "cell_type": "markdown",
   "metadata": {},
   "source": [
    "## Swahili Channel\n",
    "* [TV47](https://www.youtube.com/c/TV47Kenya/playlists)"
   ]
  },
  {
   "cell_type": "code",
   "execution_count": null,
   "metadata": {},
   "outputs": [],
   "source": []
  }
 ],
 "metadata": {
  "kernelspec": {
   "display_name": "Python 3",
   "language": "python",
   "name": "python3"
  },
  "language_info": {
   "codemirror_mode": {
    "name": "ipython",
    "version": 3
   },
   "file_extension": ".py",
   "mimetype": "text/x-python",
   "name": "python",
   "nbconvert_exporter": "python",
   "pygments_lexer": "ipython3",
   "version": "3.8.5"
  }
 },
 "nbformat": 4,
 "nbformat_minor": 4
}
