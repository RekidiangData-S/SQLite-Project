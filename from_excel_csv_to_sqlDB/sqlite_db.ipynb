{
 "cells": [
  {
   "cell_type": "markdown",
   "metadata": {},
   "source": [
    "# SQL Database with Python"
   ]
  },
  {
   "cell_type": "markdown",
   "metadata": {},
   "source": [
    "## import sqlite3"
   ]
  },
  {
   "cell_type": "code",
   "execution_count": 1,
   "metadata": {},
   "outputs": [
    {
     "name": "stdout",
     "output_type": "stream",
     "text": [
      "All required packages are imported successfully !\n"
     ]
    }
   ],
   "source": [
    "import sqlite3\n",
    "import pandas as pd\n",
    "import matplotlib.pyplot as plt\n",
    "print(\"All required packages are imported successfully !\")"
   ]
  },
  {
   "cell_type": "markdown",
   "metadata": {},
   "source": [
    "## Create connection to SQLite Database file\n",
    "> when you mention a database file name in the connection statement, sqlite3 checks if such a database is already present or not. And if it is not present, the new database file is created ⚡️. So, the same connection statement can be used to connect to the existing database and to create the new database file."
   ]
  },
  {
   "cell_type": "code",
   "execution_count": 2,
   "metadata": {},
   "outputs": [],
   "source": [
    "#It is good practice to assign the file name to the variable.\n",
    "# File Format : *.sqlite, *.db, *.db3, and *.sqlite3\n",
    "\n",
    "database = 'tds.sqlite' \n",
    "conn = sqlite3.connect(database)"
   ]
  },
  {
   "cell_type": "code",
   "execution_count": 32,
   "metadata": {},
   "outputs": [],
   "source": [
    "database = 'housing.db' \n",
    "conn1 = sqlite3.connect(database)"
   ]
  },
  {
   "cell_type": "markdown",
   "metadata": {},
   "source": [
    "## Create the Cursor\n",
    "> The cursor is the object, which will be used to execute the SQL statements on this database"
   ]
  },
  {
   "cell_type": "code",
   "execution_count": 38,
   "metadata": {},
   "outputs": [],
   "source": [
    "cur = conn.cursor()\n",
    "cur1 = conn.cursor()"
   ]
  },
  {
   "cell_type": "markdown",
   "metadata": {},
   "source": [
    "## Create the Table\n",
    "1. **cur.execute() :** To execute SQL statement mentioned within ()\n",
    "2. **conn.commit() :** To perform the current transaction. If this method is not called, anything that has done since the last call to commit() is not visible from other database connections."
   ]
  },
  {
   "cell_type": "code",
   "execution_count": 4,
   "metadata": {},
   "outputs": [],
   "source": [
    "drop_table_query = \"DROP TABLE IF EXISTS job\"\n",
    "cur.execute(drop_table_query)\n",
    "conn.commit()"
   ]
  },
  {
   "cell_type": "code",
   "execution_count": 5,
   "metadata": {},
   "outputs": [],
   "source": [
    "create_table_query = \"CREATE TABLE IF NOT EXISTS job(\\\n",
    "                        Year INTEGER, DipEngineer INTEGER,\\\n",
    "                        Medical INTEGER, Agriculture INTEGER,\\\n",
    "                        Science INTEGER, Engineer INTEGER,\\\n",
    "                        PGMedical INTEGER, PGAgriculture INTEGER,\\\n",
    "                        PGScience INTEGER)\"\n",
    "cur.execute(create_table_query)\n",
    "conn.commit()"
   ]
  },
  {
   "cell_type": "code",
   "execution_count": 15,
   "metadata": {},
   "outputs": [
    {
     "name": "stdout",
     "output_type": "stream",
     "text": [
      "'Year', 'DipEngineer', 'Medical', 'Agriculture', 'Science', 'Engineer', 'PGMedical', 'PGAgriculture', 'PGScience'\n"
     ]
    }
   ],
   "source": [
    "check_table_cols = \"SELECT * FROM job\"\n",
    "cur.execute(check_table_cols)\n",
    "col_name_list = [tuple[0] for tuple in cur.description]\n",
    "#col_name_list\n",
    "print(', '.join(map(repr, col_name_list)))"
   ]
  },
  {
   "cell_type": "markdown",
   "metadata": {},
   "source": [
    "## Read the data from the Excel File"
   ]
  },
  {
   "cell_type": "code",
   "execution_count": 7,
   "metadata": {},
   "outputs": [
    {
     "data": {
      "text/html": [
       "<div>\n",
       "<style scoped>\n",
       "    .dataframe tbody tr th:only-of-type {\n",
       "        vertical-align: middle;\n",
       "    }\n",
       "\n",
       "    .dataframe tbody tr th {\n",
       "        vertical-align: top;\n",
       "    }\n",
       "\n",
       "    .dataframe thead th {\n",
       "        text-align: right;\n",
       "    }\n",
       "</style>\n",
       "<table border=\"1\" class=\"dataframe\">\n",
       "  <thead>\n",
       "    <tr style=\"text-align: right;\">\n",
       "      <th></th>\n",
       "      <th>Year</th>\n",
       "      <th>DipEngineer</th>\n",
       "      <th>Medical</th>\n",
       "      <th>Agriculture</th>\n",
       "      <th>Veterinary</th>\n",
       "      <th>Science</th>\n",
       "      <th>Engineer</th>\n",
       "      <th>GradTotal</th>\n",
       "      <th>PGMedical</th>\n",
       "      <th>PGAgriculture</th>\n",
       "      <th>PGVeterinary</th>\n",
       "      <th>PGScience</th>\n",
       "      <th>PGTotal</th>\n",
       "    </tr>\n",
       "  </thead>\n",
       "  <tbody>\n",
       "    <tr>\n",
       "      <th>0</th>\n",
       "      <td>1971</td>\n",
       "      <td>54056.0</td>\n",
       "      <td>3848</td>\n",
       "      <td>7325</td>\n",
       "      <td>361</td>\n",
       "      <td>99189</td>\n",
       "      <td>19050</td>\n",
       "      <td>129773</td>\n",
       "      <td>105.0</td>\n",
       "      <td>682.0</td>\n",
       "      <td>31.0</td>\n",
       "      <td>10114.0</td>\n",
       "      <td>10932.0</td>\n",
       "    </tr>\n",
       "    <tr>\n",
       "      <th>1</th>\n",
       "      <td>1972</td>\n",
       "      <td>59847.0</td>\n",
       "      <td>5127</td>\n",
       "      <td>9092</td>\n",
       "      <td>200</td>\n",
       "      <td>160644</td>\n",
       "      <td>22808</td>\n",
       "      <td>197871</td>\n",
       "      <td>128.0</td>\n",
       "      <td>810.0</td>\n",
       "      <td>7.0</td>\n",
       "      <td>13642.0</td>\n",
       "      <td>14587.0</td>\n",
       "    </tr>\n",
       "    <tr>\n",
       "      <th>2</th>\n",
       "      <td>1973</td>\n",
       "      <td>55215.0</td>\n",
       "      <td>5664</td>\n",
       "      <td>8913</td>\n",
       "      <td>371</td>\n",
       "      <td>210716</td>\n",
       "      <td>23093</td>\n",
       "      <td>248757</td>\n",
       "      <td>184.0</td>\n",
       "      <td>959.0</td>\n",
       "      <td>19.0</td>\n",
       "      <td>16036.0</td>\n",
       "      <td>17198.0</td>\n",
       "    </tr>\n",
       "    <tr>\n",
       "      <th>3</th>\n",
       "      <td>1974</td>\n",
       "      <td>53901.0</td>\n",
       "      <td>6682</td>\n",
       "      <td>7370</td>\n",
       "      <td>376</td>\n",
       "      <td>215089</td>\n",
       "      <td>19344</td>\n",
       "      <td>248861</td>\n",
       "      <td>238.0</td>\n",
       "      <td>775.0</td>\n",
       "      <td>11.0</td>\n",
       "      <td>17565.0</td>\n",
       "      <td>18589.0</td>\n",
       "    </tr>\n",
       "    <tr>\n",
       "      <th>4</th>\n",
       "      <td>1975</td>\n",
       "      <td>55564.0</td>\n",
       "      <td>7301</td>\n",
       "      <td>7958</td>\n",
       "      <td>511</td>\n",
       "      <td>237607</td>\n",
       "      <td>17316</td>\n",
       "      <td>270693</td>\n",
       "      <td>422.0</td>\n",
       "      <td>887.0</td>\n",
       "      <td>4.0</td>\n",
       "      <td>19374.0</td>\n",
       "      <td>20687.0</td>\n",
       "    </tr>\n",
       "    <tr>\n",
       "      <th>5</th>\n",
       "      <td>1976</td>\n",
       "      <td>62447.0</td>\n",
       "      <td>8249</td>\n",
       "      <td>8285</td>\n",
       "      <td>489</td>\n",
       "      <td>241319</td>\n",
       "      <td>18385</td>\n",
       "      <td>276727</td>\n",
       "      <td>321.0</td>\n",
       "      <td>911.0</td>\n",
       "      <td>13.0</td>\n",
       "      <td>24557.0</td>\n",
       "      <td>25802.0</td>\n",
       "    </tr>\n",
       "    <tr>\n",
       "      <th>6</th>\n",
       "      <td>1977</td>\n",
       "      <td>74319.0</td>\n",
       "      <td>8948</td>\n",
       "      <td>9763</td>\n",
       "      <td>299</td>\n",
       "      <td>265656</td>\n",
       "      <td>19798</td>\n",
       "      <td>304464</td>\n",
       "      <td>385.0</td>\n",
       "      <td>1064.0</td>\n",
       "      <td>46.0</td>\n",
       "      <td>25529.0</td>\n",
       "      <td>27024.0</td>\n",
       "    </tr>\n",
       "    <tr>\n",
       "      <th>7</th>\n",
       "      <td>1978</td>\n",
       "      <td>84317.0</td>\n",
       "      <td>10637</td>\n",
       "      <td>9765</td>\n",
       "      <td>399</td>\n",
       "      <td>281693</td>\n",
       "      <td>20113</td>\n",
       "      <td>322607</td>\n",
       "      <td>627.0</td>\n",
       "      <td>871.0</td>\n",
       "      <td>25.0</td>\n",
       "      <td>25751.0</td>\n",
       "      <td>27274.0</td>\n",
       "    </tr>\n",
       "    <tr>\n",
       "      <th>8</th>\n",
       "      <td>1979</td>\n",
       "      <td>87275.0</td>\n",
       "      <td>12923</td>\n",
       "      <td>10841</td>\n",
       "      <td>433</td>\n",
       "      <td>286639</td>\n",
       "      <td>21781</td>\n",
       "      <td>332617</td>\n",
       "      <td>924.0</td>\n",
       "      <td>850.0</td>\n",
       "      <td>35.0</td>\n",
       "      <td>25788.0</td>\n",
       "      <td>27597.0</td>\n",
       "    </tr>\n",
       "    <tr>\n",
       "      <th>9</th>\n",
       "      <td>1980</td>\n",
       "      <td>90306.0</td>\n",
       "      <td>14809</td>\n",
       "      <td>11375</td>\n",
       "      <td>356</td>\n",
       "      <td>310692</td>\n",
       "      <td>21862</td>\n",
       "      <td>359094</td>\n",
       "      <td>1836.0</td>\n",
       "      <td>546.0</td>\n",
       "      <td>66.0</td>\n",
       "      <td>25651.0</td>\n",
       "      <td>28099.0</td>\n",
       "    </tr>\n",
       "  </tbody>\n",
       "</table>\n",
       "</div>"
      ],
      "text/plain": [
       "   Year  DipEngineer  Medical  Agriculture  Veterinary  Science  Engineer  \\\n",
       "0  1971      54056.0     3848         7325         361    99189     19050   \n",
       "1  1972      59847.0     5127         9092         200   160644     22808   \n",
       "2  1973      55215.0     5664         8913         371   210716     23093   \n",
       "3  1974      53901.0     6682         7370         376   215089     19344   \n",
       "4  1975      55564.0     7301         7958         511   237607     17316   \n",
       "5  1976      62447.0     8249         8285         489   241319     18385   \n",
       "6  1977      74319.0     8948         9763         299   265656     19798   \n",
       "7  1978      84317.0    10637         9765         399   281693     20113   \n",
       "8  1979      87275.0    12923        10841         433   286639     21781   \n",
       "9  1980      90306.0    14809        11375         356   310692     21862   \n",
       "\n",
       "   GradTotal  PGMedical  PGAgriculture  PGVeterinary  PGScience  PGTotal  \n",
       "0     129773      105.0          682.0          31.0    10114.0  10932.0  \n",
       "1     197871      128.0          810.0           7.0    13642.0  14587.0  \n",
       "2     248757      184.0          959.0          19.0    16036.0  17198.0  \n",
       "3     248861      238.0          775.0          11.0    17565.0  18589.0  \n",
       "4     270693      422.0          887.0           4.0    19374.0  20687.0  \n",
       "5     276727      321.0          911.0          13.0    24557.0  25802.0  \n",
       "6     304464      385.0         1064.0          46.0    25529.0  27024.0  \n",
       "7     322607      627.0          871.0          25.0    25751.0  27274.0  \n",
       "8     332617      924.0          850.0          35.0    25788.0  27597.0  \n",
       "9     359094     1836.0          546.0          66.0    25651.0  28099.0  "
      ]
     },
     "execution_count": 7,
     "metadata": {},
     "output_type": "execute_result"
    }
   ],
   "source": [
    "df = pd.read_excel(\"jobseekers.xls\", header=0) \n",
    "df.columns = [\"Year\", \"DipEngineer\", \"Medical\", \"Agriculture\",\\\n",
    "              \"Veterinary\", \"Science\",\"Engineer\",\\\n",
    "              \"GradTotal\", \"PGMedical\",\"PGAgriculture\",\\\n",
    "              \"PGVeterinary\", \"PGScience\", \"PGTotal\"]\n",
    "df.head(10)"
   ]
  },
  {
   "cell_type": "code",
   "execution_count": 8,
   "metadata": {},
   "outputs": [
    {
     "data": {
      "text/plain": [
       "<AxesSubplot:>"
      ]
     },
     "execution_count": 8,
     "metadata": {},
     "output_type": "execute_result"
    },
    {
     "data": {
      "image/png": "[encoded data removed]",
      "text/plain": [
       "<Figure size 432x288 with 1 Axes>"
      ]
     },
     "metadata": {
      "needs_background": "light"
     },
     "output_type": "display_data"
    }
   ],
   "source": [
    "df.isna().sum().plot(kind='barh')"
   ]
  },
  {
   "cell_type": "code",
   "execution_count": 9,
   "metadata": {},
   "outputs": [
    {
     "name": "stdout",
     "output_type": "stream",
     "text": [
      "<class 'pandas.core.frame.DataFrame'>\n",
      "Int64Index: 26 entries, 0 to 27\n",
      "Data columns (total 13 columns):\n",
      " #   Column         Non-Null Count  Dtype  \n",
      "---  ------         --------------  -----  \n",
      " 0   Year           26 non-null     int64  \n",
      " 1   DipEngineer    26 non-null     float64\n",
      " 2   Medical        26 non-null     int64  \n",
      " 3   Agriculture    26 non-null     int64  \n",
      " 4   Veterinary     26 non-null     int64  \n",
      " 5   Science        26 non-null     int64  \n",
      " 6   Engineer       26 non-null     int64  \n",
      " 7   GradTotal      26 non-null     int64  \n",
      " 8   PGMedical      26 non-null     float64\n",
      " 9   PGAgriculture  26 non-null     float64\n",
      " 10  PGVeterinary   26 non-null     float64\n",
      " 11  PGScience      26 non-null     float64\n",
      " 12  PGTotal        26 non-null     float64\n",
      "dtypes: float64(6), int64(7)\n",
      "memory usage: 2.8 KB\n"
     ]
    }
   ],
   "source": [
    "df.dropna(inplace=True) # remove the rows containing these null values\n",
    "df.info()"
   ]
  },
  {
   "cell_type": "code",
   "execution_count": 10,
   "metadata": {},
   "outputs": [
    {
     "name": "stdout",
     "output_type": "stream",
     "text": [
      "<class 'pandas.core.frame.DataFrame'>\n",
      "Int64Index: 26 entries, 0 to 27\n",
      "Data columns (total 13 columns):\n",
      " #   Column         Non-Null Count  Dtype\n",
      "---  ------         --------------  -----\n",
      " 0   Year           26 non-null     int64\n",
      " 1   DipEngineer    26 non-null     int64\n",
      " 2   Medical        26 non-null     int64\n",
      " 3   Agriculture    26 non-null     int64\n",
      " 4   Veterinary     26 non-null     int64\n",
      " 5   Science        26 non-null     int64\n",
      " 6   Engineer       26 non-null     int64\n",
      " 7   GradTotal      26 non-null     int64\n",
      " 8   PGMedical      26 non-null     int64\n",
      " 9   PGAgriculture  26 non-null     int64\n",
      " 10  PGVeterinary   26 non-null     int64\n",
      " 11  PGScience      26 non-null     int64\n",
      " 12  PGTotal        26 non-null     int64\n",
      "dtypes: int64(13)\n",
      "memory usage: 2.8 KB\n"
     ]
    }
   ],
   "source": [
    "# Let’s also change the datatype of all float64 columns to int64. Just follow me on the below code.\n",
    "\n",
    "colnames = [\"DipEngineer\", \"PGMedical\", \"PGAgriculture\",\\\n",
    "            \"PGVeterinary\", \"PGScience\", \"PGTotal\"]\n",
    "for col in colnames:\n",
    "    df[col] = df[col].astype(\"int64\")\n",
    "df.info()"
   ]
  },
  {
   "cell_type": "code",
   "execution_count": 11,
   "metadata": {},
   "outputs": [
    {
     "data": {
      "text/html": [
       "<div>\n",
       "<style scoped>\n",
       "    .dataframe tbody tr th:only-of-type {\n",
       "        vertical-align: middle;\n",
       "    }\n",
       "\n",
       "    .dataframe tbody tr th {\n",
       "        vertical-align: top;\n",
       "    }\n",
       "\n",
       "    .dataframe thead th {\n",
       "        text-align: right;\n",
       "    }\n",
       "</style>\n",
       "<table border=\"1\" class=\"dataframe\">\n",
       "  <thead>\n",
       "    <tr style=\"text-align: right;\">\n",
       "      <th></th>\n",
       "      <th>Year</th>\n",
       "      <th>DipEngineer</th>\n",
       "      <th>Medical</th>\n",
       "      <th>Agriculture</th>\n",
       "      <th>Science</th>\n",
       "      <th>Engineer</th>\n",
       "      <th>PGMedical</th>\n",
       "      <th>PGAgriculture</th>\n",
       "      <th>PGScience</th>\n",
       "    </tr>\n",
       "  </thead>\n",
       "  <tbody>\n",
       "    <tr>\n",
       "      <th>0</th>\n",
       "      <td>1971</td>\n",
       "      <td>54056</td>\n",
       "      <td>3848</td>\n",
       "      <td>7325</td>\n",
       "      <td>99189</td>\n",
       "      <td>19050</td>\n",
       "      <td>105</td>\n",
       "      <td>682</td>\n",
       "      <td>10114</td>\n",
       "    </tr>\n",
       "    <tr>\n",
       "      <th>1</th>\n",
       "      <td>1972</td>\n",
       "      <td>59847</td>\n",
       "      <td>5127</td>\n",
       "      <td>9092</td>\n",
       "      <td>160644</td>\n",
       "      <td>22808</td>\n",
       "      <td>128</td>\n",
       "      <td>810</td>\n",
       "      <td>13642</td>\n",
       "    </tr>\n",
       "    <tr>\n",
       "      <th>2</th>\n",
       "      <td>1973</td>\n",
       "      <td>55215</td>\n",
       "      <td>5664</td>\n",
       "      <td>8913</td>\n",
       "      <td>210716</td>\n",
       "      <td>23093</td>\n",
       "      <td>184</td>\n",
       "      <td>959</td>\n",
       "      <td>16036</td>\n",
       "    </tr>\n",
       "    <tr>\n",
       "      <th>3</th>\n",
       "      <td>1974</td>\n",
       "      <td>53901</td>\n",
       "      <td>6682</td>\n",
       "      <td>7370</td>\n",
       "      <td>215089</td>\n",
       "      <td>19344</td>\n",
       "      <td>238</td>\n",
       "      <td>775</td>\n",
       "      <td>17565</td>\n",
       "    </tr>\n",
       "    <tr>\n",
       "      <th>4</th>\n",
       "      <td>1975</td>\n",
       "      <td>55564</td>\n",
       "      <td>7301</td>\n",
       "      <td>7958</td>\n",
       "      <td>237607</td>\n",
       "      <td>17316</td>\n",
       "      <td>422</td>\n",
       "      <td>887</td>\n",
       "      <td>19374</td>\n",
       "    </tr>\n",
       "    <tr>\n",
       "      <th>5</th>\n",
       "      <td>1976</td>\n",
       "      <td>62447</td>\n",
       "      <td>8249</td>\n",
       "      <td>8285</td>\n",
       "      <td>241319</td>\n",
       "      <td>18385</td>\n",
       "      <td>321</td>\n",
       "      <td>911</td>\n",
       "      <td>24557</td>\n",
       "    </tr>\n",
       "    <tr>\n",
       "      <th>6</th>\n",
       "      <td>1977</td>\n",
       "      <td>74319</td>\n",
       "      <td>8948</td>\n",
       "      <td>9763</td>\n",
       "      <td>265656</td>\n",
       "      <td>19798</td>\n",
       "      <td>385</td>\n",
       "      <td>1064</td>\n",
       "      <td>25529</td>\n",
       "    </tr>\n",
       "    <tr>\n",
       "      <th>7</th>\n",
       "      <td>1978</td>\n",
       "      <td>84317</td>\n",
       "      <td>10637</td>\n",
       "      <td>9765</td>\n",
       "      <td>281693</td>\n",
       "      <td>20113</td>\n",
       "      <td>627</td>\n",
       "      <td>871</td>\n",
       "      <td>25751</td>\n",
       "    </tr>\n",
       "    <tr>\n",
       "      <th>8</th>\n",
       "      <td>1979</td>\n",
       "      <td>87275</td>\n",
       "      <td>12923</td>\n",
       "      <td>10841</td>\n",
       "      <td>286639</td>\n",
       "      <td>21781</td>\n",
       "      <td>924</td>\n",
       "      <td>850</td>\n",
       "      <td>25788</td>\n",
       "    </tr>\n",
       "    <tr>\n",
       "      <th>9</th>\n",
       "      <td>1980</td>\n",
       "      <td>90306</td>\n",
       "      <td>14809</td>\n",
       "      <td>11375</td>\n",
       "      <td>310692</td>\n",
       "      <td>21862</td>\n",
       "      <td>1836</td>\n",
       "      <td>546</td>\n",
       "      <td>25651</td>\n",
       "    </tr>\n",
       "  </tbody>\n",
       "</table>\n",
       "</div>"
      ],
      "text/plain": [
       "   Year  DipEngineer  Medical  Agriculture  Science  Engineer  PGMedical  \\\n",
       "0  1971        54056     3848         7325    99189     19050        105   \n",
       "1  1972        59847     5127         9092   160644     22808        128   \n",
       "2  1973        55215     5664         8913   210716     23093        184   \n",
       "3  1974        53901     6682         7370   215089     19344        238   \n",
       "4  1975        55564     7301         7958   237607     17316        422   \n",
       "5  1976        62447     8249         8285   241319     18385        321   \n",
       "6  1977        74319     8948         9763   265656     19798        385   \n",
       "7  1978        84317    10637         9765   281693     20113        627   \n",
       "8  1979        87275    12923        10841   286639     21781        924   \n",
       "9  1980        90306    14809        11375   310692     21862       1836   \n",
       "\n",
       "   PGAgriculture  PGScience  \n",
       "0            682      10114  \n",
       "1            810      13642  \n",
       "2            959      16036  \n",
       "3            775      17565  \n",
       "4            887      19374  \n",
       "5            911      24557  \n",
       "6           1064      25529  \n",
       "7            871      25751  \n",
       "8            850      25788  \n",
       "9            546      25651  "
      ]
     },
     "execution_count": 11,
     "metadata": {},
     "output_type": "execute_result"
    }
   ],
   "source": [
    "subdf = df [[\"Year\", \"DipEngineer\", \"Medical\",\\\n",
    "             \"Agriculture\",\"Science\", \"Engineer\",\\\n",
    "             \"PGMedical\", \"PGAgriculture\", \"PGScience\"]]\n",
    "subdf.head(10)"
   ]
  },
  {
   "cell_type": "markdown",
   "metadata": {},
   "source": [
    "## Load the Data in SQLite Database\n",
    "1. Name of the table which you already created\n",
    "2. Connection object conn which connects to the database"
   ]
  },
  {
   "cell_type": "code",
   "execution_count": 16,
   "metadata": {},
   "outputs": [
    {
     "name": "stdout",
     "output_type": "stream",
     "text": [
      "Data Successfully exported !\n"
     ]
    }
   ],
   "source": [
    "subdf.to_sql('job', conn, if_exists=\"append\", index=False)\n",
    "print(\"Data Successfully exported !\")"
   ]
  },
  {
   "cell_type": "code",
   "execution_count": 29,
   "metadata": {},
   "outputs": [
    {
     "data": {
      "text/html": [
       "<div>\n",
       "<style scoped>\n",
       "    .dataframe tbody tr th:only-of-type {\n",
       "        vertical-align: middle;\n",
       "    }\n",
       "\n",
       "    .dataframe tbody tr th {\n",
       "        vertical-align: top;\n",
       "    }\n",
       "\n",
       "    .dataframe thead th {\n",
       "        text-align: right;\n",
       "    }\n",
       "</style>\n",
       "<table border=\"1\" class=\"dataframe\">\n",
       "  <thead>\n",
       "    <tr style=\"text-align: right;\">\n",
       "      <th></th>\n",
       "      <th>Year</th>\n",
       "      <th>DipEngineer</th>\n",
       "      <th>Medical</th>\n",
       "      <th>Agriculture</th>\n",
       "      <th>Science</th>\n",
       "      <th>Engineer</th>\n",
       "      <th>PGMedical</th>\n",
       "      <th>PGAgriculture</th>\n",
       "      <th>PGScience</th>\n",
       "    </tr>\n",
       "  </thead>\n",
       "  <tbody>\n",
       "    <tr>\n",
       "      <th>0</th>\n",
       "      <td>1990</td>\n",
       "      <td>315502</td>\n",
       "      <td>28988</td>\n",
       "      <td>29352</td>\n",
       "      <td>636505</td>\n",
       "      <td>95563</td>\n",
       "      <td>2743</td>\n",
       "      <td>2672</td>\n",
       "      <td>92953</td>\n",
       "    </tr>\n",
       "    <tr>\n",
       "      <th>1</th>\n",
       "      <td>1991</td>\n",
       "      <td>333174</td>\n",
       "      <td>30827</td>\n",
       "      <td>31705</td>\n",
       "      <td>659813</td>\n",
       "      <td>128422</td>\n",
       "      <td>2913</td>\n",
       "      <td>2667</td>\n",
       "      <td>90948</td>\n",
       "    </tr>\n",
       "    <tr>\n",
       "      <th>2</th>\n",
       "      <td>1992</td>\n",
       "      <td>407837</td>\n",
       "      <td>28080</td>\n",
       "      <td>29701</td>\n",
       "      <td>675481</td>\n",
       "      <td>141225</td>\n",
       "      <td>3206</td>\n",
       "      <td>3866</td>\n",
       "      <td>94332</td>\n",
       "    </tr>\n",
       "    <tr>\n",
       "      <th>3</th>\n",
       "      <td>1993</td>\n",
       "      <td>430577</td>\n",
       "      <td>28560</td>\n",
       "      <td>29529</td>\n",
       "      <td>676099</td>\n",
       "      <td>152015</td>\n",
       "      <td>3334</td>\n",
       "      <td>3932</td>\n",
       "      <td>100249</td>\n",
       "    </tr>\n",
       "    <tr>\n",
       "      <th>4</th>\n",
       "      <td>1994</td>\n",
       "      <td>401832</td>\n",
       "      <td>27446</td>\n",
       "      <td>28495</td>\n",
       "      <td>695084</td>\n",
       "      <td>158509</td>\n",
       "      <td>3186</td>\n",
       "      <td>4658</td>\n",
       "      <td>104923</td>\n",
       "    </tr>\n",
       "  </tbody>\n",
       "</table>\n",
       "</div>"
      ],
      "text/plain": [
       "   Year  DipEngineer  Medical  Agriculture  Science  Engineer  PGMedical  \\\n",
       "0  1990       315502    28988        29352   636505     95563       2743   \n",
       "1  1991       333174    30827        31705   659813    128422       2913   \n",
       "2  1992       407837    28080        29701   675481    141225       3206   \n",
       "3  1993       430577    28560        29529   676099    152015       3334   \n",
       "4  1994       401832    27446        28495   695084    158509       3186   \n",
       "\n",
       "   PGAgriculture  PGScience  \n",
       "0           2672      92953  \n",
       "1           2667      90948  \n",
       "2           3866      94332  \n",
       "3           3932     100249  \n",
       "4           4658     104923  "
      ]
     },
     "execution_count": 29,
     "metadata": {},
     "output_type": "execute_result"
    }
   ],
   "source": [
    "query = \"SELECT Year, Medical, PGMedical FROM job WHERE Medical > 5000\"\n",
    "query1 = \"SELECT MIN(Year) AS 'First Year', MAX(Year) AS 'Last Year'  FROM job\"\n",
    "query2 = \"SELECT *  FROM job WHERE Year BETWEEN 1990 AND 1999\"\n",
    "cur.execute(query2)\n",
    "conn.commit()\n",
    "result = cur.fetchall()\n",
    "resultdf = pd.DataFrame(result)\n",
    "resultdf.columns = [tuple[0] for tuple in cur.description]\n",
    "resultdf.head()"
   ]
  },
  {
   "cell_type": "markdown",
   "metadata": {},
   "source": [
    "## Close Connection"
   ]
  },
  {
   "cell_type": "markdown",
   "metadata": {},
   "source": [
    "conn.close()"
   ]
  },
  {
   "cell_type": "markdown",
   "metadata": {},
   "source": [
    "#### You can not work with the database once the connection is close, you will get an error message :\n",
    "> ProgrammingError: Cannot operate on a closed database."
   ]
  },
  {
   "cell_type": "code",
   "execution_count": 44,
   "metadata": {},
   "outputs": [
    {
     "ename": "ProgrammingError",
     "evalue": "Cannot operate on a closed database.",
     "output_type": "error",
     "traceback": [
      "\u001b[1;31m---------------------------------------------------------------------------\u001b[0m",
      "\u001b[1;31mProgrammingError\u001b[0m                          Traceback (most recent call last)",
      "\u001b[1;32m<ipython-input-44-8db30cb0ce95>\u001b[0m in \u001b[0;36m<module>\u001b[1;34m\u001b[0m\n\u001b[0;32m      2\u001b[0m \u001b[0mquery1\u001b[0m \u001b[1;33m=\u001b[0m \u001b[1;34m\"SELECT MIN(Year) AS 'First Year', MAX(Year) AS 'Last Year'  FROM job\"\u001b[0m\u001b[1;33m\u001b[0m\u001b[1;33m\u001b[0m\u001b[0m\n\u001b[0;32m      3\u001b[0m \u001b[0mquery2\u001b[0m \u001b[1;33m=\u001b[0m \u001b[1;34m\"SELECT *  FROM job WHERE Year BETWEEN 1990 AND 1999\"\u001b[0m\u001b[1;33m\u001b[0m\u001b[1;33m\u001b[0m\u001b[0m\n\u001b[1;32m----> 4\u001b[1;33m \u001b[0mcur\u001b[0m\u001b[1;33m.\u001b[0m\u001b[0mexecute\u001b[0m\u001b[1;33m(\u001b[0m\u001b[0mquery2\u001b[0m\u001b[1;33m)\u001b[0m\u001b[1;33m\u001b[0m\u001b[1;33m\u001b[0m\u001b[0m\n\u001b[0m\u001b[0;32m      5\u001b[0m \u001b[0mconn\u001b[0m\u001b[1;33m.\u001b[0m\u001b[0mcommit\u001b[0m\u001b[1;33m(\u001b[0m\u001b[1;33m)\u001b[0m\u001b[1;33m\u001b[0m\u001b[1;33m\u001b[0m\u001b[0m\n\u001b[0;32m      6\u001b[0m \u001b[0mresult\u001b[0m \u001b[1;33m=\u001b[0m \u001b[0mcur\u001b[0m\u001b[1;33m.\u001b[0m\u001b[0mfetchall\u001b[0m\u001b[1;33m(\u001b[0m\u001b[1;33m)\u001b[0m\u001b[1;33m\u001b[0m\u001b[1;33m\u001b[0m\u001b[0m\n",
      "\u001b[1;31mProgrammingError\u001b[0m: Cannot operate on a closed database."
     ]
    }
   ],
   "source": [
    "query = \"SELECT Year, Medical, PGMedical FROM job WHERE Medical > 5000\"\n",
    "query1 = \"SELECT MIN(Year) AS 'First Year', MAX(Year) AS 'Last Year'  FROM job\"\n",
    "query2 = \"SELECT *  FROM job WHERE Year BETWEEN 1990 AND 1999\"\n",
    "cur.execute(query2)\n",
    "conn.commit()\n",
    "result = cur.fetchall()\n",
    "resultdf = pd.DataFrame(result)\n",
    "resultdf.columns = [tuple[0] for tuple in cur.description]\n",
    "resultdf.head()"
   ]
  },
  {
   "cell_type": "code",
   "execution_count": null,
   "metadata": {},
   "outputs": [],
   "source": []
  }
 ],
 "metadata": {
  "kernelspec": {
   "display_name": "Python 3",
   "language": "python",
   "name": "python3"
  },
  "language_info": {
   "codemirror_mode": {
    "name": "ipython",
    "version": 3
   },
   "file_extension": ".py",
   "mimetype": "text/x-python",
   "name": "python",
   "nbconvert_exporter": "python",
   "pygments_lexer": "ipython3",
   "version": "3.8.5"
  }
 },
 "nbformat": 4,
 "nbformat_minor": 4
}
